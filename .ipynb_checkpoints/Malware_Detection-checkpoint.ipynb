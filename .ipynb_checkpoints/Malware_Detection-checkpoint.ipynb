{
 "cells": [
  {
   "cell_type": "markdown",
   "metadata": {},
   "source": [
    "<h1>ANALYSING THE DATASET</h1>"
   ]
  },
  {
   "cell_type": "code",
   "execution_count": 4,
   "metadata": {},
   "outputs": [
    {
     "ename": "ModuleNotFoundError",
     "evalue": "No module named 'pandas'",
     "output_type": "error",
     "traceback": [
      "\u001b[1;31m---------------------------------------------------------------------------\u001b[0m",
      "\u001b[1;31mModuleNotFoundError\u001b[0m                       Traceback (most recent call last)",
      "\u001b[1;32mc:\\Users\\Imesh\\Documents\\Clamp\\Malware_Detection.ipynb Cell 2\u001b[0m line \u001b[0;36m1\n\u001b[1;32m----> <a href='vscode-notebook-cell:/c%3A/Users/Imesh/Documents/Clamp/Malware_Detection.ipynb#W1sZmlsZQ%3D%3D?line=0'>1</a>\u001b[0m \u001b[39mimport\u001b[39;00m \u001b[39mpandas\u001b[39;00m \u001b[39mas\u001b[39;00m \u001b[39mpd\u001b[39;00m\n\u001b[0;32m      <a href='vscode-notebook-cell:/c%3A/Users/Imesh/Documents/Clamp/Malware_Detection.ipynb#W1sZmlsZQ%3D%3D?line=1'>2</a>\u001b[0m data \u001b[39m=\u001b[39m pd\u001b[39m.\u001b[39mread_csv(\u001b[39m\"\u001b[39m\u001b[39mMalwareData.csv\u001b[39m\u001b[39m\"\u001b[39m, sep\u001b[39m=\u001b[39m\u001b[39m\"\u001b[39m\u001b[39m|\u001b[39m\u001b[39m\"\u001b[39m)\n",
      "\u001b[1;31mModuleNotFoundError\u001b[0m: No module named 'pandas'"
     ]
    }
   ],
   "source": [
    "import pandas as pd\n",
    "data = pd.read_csv(\"MalwareData.csv\", sep=\"|\")"
   ]
  },
  {
   "cell_type": "code",
   "execution_count": null,
   "metadata": {},
   "outputs": [
    {
     "data": {
      "text/html": [
       "<div>\n",
       "<style scoped>\n",
       "    .dataframe tbody tr th:only-of-type {\n",
       "        vertical-align: middle;\n",
       "    }\n",
       "\n",
       "    .dataframe tbody tr th {\n",
       "        vertical-align: top;\n",
       "    }\n",
       "\n",
       "    .dataframe thead th {\n",
       "        text-align: right;\n",
       "    }\n",
       "</style>\n",
       "<table border=\"1\" class=\"dataframe\">\n",
       "  <thead>\n",
       "    <tr style=\"text-align: right;\">\n",
       "      <th></th>\n",
       "      <th>Name</th>\n",
       "      <th>md5</th>\n",
       "      <th>Machine</th>\n",
       "      <th>SizeOfOptionalHeader</th>\n",
       "      <th>Characteristics</th>\n",
       "      <th>MajorLinkerVersion</th>\n",
       "      <th>MinorLinkerVersion</th>\n",
       "      <th>SizeOfCode</th>\n",
       "      <th>SizeOfInitializedData</th>\n",
       "      <th>SizeOfUninitializedData</th>\n",
       "      <th>...</th>\n",
       "      <th>ResourcesNb</th>\n",
       "      <th>ResourcesMeanEntropy</th>\n",
       "      <th>ResourcesMinEntropy</th>\n",
       "      <th>ResourcesMaxEntropy</th>\n",
       "      <th>ResourcesMeanSize</th>\n",
       "      <th>ResourcesMinSize</th>\n",
       "      <th>ResourcesMaxSize</th>\n",
       "      <th>LoadConfigurationSize</th>\n",
       "      <th>VersionInformationSize</th>\n",
       "      <th>legitimate</th>\n",
       "    </tr>\n",
       "  </thead>\n",
       "  <tbody>\n",
       "    <tr>\n",
       "      <th>0</th>\n",
       "      <td>memtest.exe</td>\n",
       "      <td>631ea355665f28d4707448e442fbf5b8</td>\n",
       "      <td>332</td>\n",
       "      <td>224</td>\n",
       "      <td>258</td>\n",
       "      <td>9</td>\n",
       "      <td>0</td>\n",
       "      <td>361984</td>\n",
       "      <td>115712</td>\n",
       "      <td>0</td>\n",
       "      <td>...</td>\n",
       "      <td>4</td>\n",
       "      <td>3.262823</td>\n",
       "      <td>2.568844</td>\n",
       "      <td>3.537939</td>\n",
       "      <td>8797.000000</td>\n",
       "      <td>216</td>\n",
       "      <td>18032</td>\n",
       "      <td>0</td>\n",
       "      <td>16</td>\n",
       "      <td>1</td>\n",
       "    </tr>\n",
       "    <tr>\n",
       "      <th>1</th>\n",
       "      <td>ose.exe</td>\n",
       "      <td>9d10f99a6712e28f8acd5641e3a7ea6b</td>\n",
       "      <td>332</td>\n",
       "      <td>224</td>\n",
       "      <td>3330</td>\n",
       "      <td>9</td>\n",
       "      <td>0</td>\n",
       "      <td>130560</td>\n",
       "      <td>19968</td>\n",
       "      <td>0</td>\n",
       "      <td>...</td>\n",
       "      <td>2</td>\n",
       "      <td>4.250461</td>\n",
       "      <td>3.420744</td>\n",
       "      <td>5.080177</td>\n",
       "      <td>837.000000</td>\n",
       "      <td>518</td>\n",
       "      <td>1156</td>\n",
       "      <td>72</td>\n",
       "      <td>18</td>\n",
       "      <td>1</td>\n",
       "    </tr>\n",
       "    <tr>\n",
       "      <th>2</th>\n",
       "      <td>setup.exe</td>\n",
       "      <td>4d92f518527353c0db88a70fddcfd390</td>\n",
       "      <td>332</td>\n",
       "      <td>224</td>\n",
       "      <td>3330</td>\n",
       "      <td>9</td>\n",
       "      <td>0</td>\n",
       "      <td>517120</td>\n",
       "      <td>621568</td>\n",
       "      <td>0</td>\n",
       "      <td>...</td>\n",
       "      <td>11</td>\n",
       "      <td>4.426324</td>\n",
       "      <td>2.846449</td>\n",
       "      <td>5.271813</td>\n",
       "      <td>31102.272727</td>\n",
       "      <td>104</td>\n",
       "      <td>270376</td>\n",
       "      <td>72</td>\n",
       "      <td>18</td>\n",
       "      <td>1</td>\n",
       "    </tr>\n",
       "    <tr>\n",
       "      <th>3</th>\n",
       "      <td>DW20.EXE</td>\n",
       "      <td>a41e524f8d45f0074fd07805ff0c9b12</td>\n",
       "      <td>332</td>\n",
       "      <td>224</td>\n",
       "      <td>258</td>\n",
       "      <td>9</td>\n",
       "      <td>0</td>\n",
       "      <td>585728</td>\n",
       "      <td>369152</td>\n",
       "      <td>0</td>\n",
       "      <td>...</td>\n",
       "      <td>10</td>\n",
       "      <td>4.364291</td>\n",
       "      <td>2.669314</td>\n",
       "      <td>6.400720</td>\n",
       "      <td>1457.000000</td>\n",
       "      <td>90</td>\n",
       "      <td>4264</td>\n",
       "      <td>72</td>\n",
       "      <td>18</td>\n",
       "      <td>1</td>\n",
       "    </tr>\n",
       "    <tr>\n",
       "      <th>4</th>\n",
       "      <td>dwtrig20.exe</td>\n",
       "      <td>c87e561258f2f8650cef999bf643a731</td>\n",
       "      <td>332</td>\n",
       "      <td>224</td>\n",
       "      <td>258</td>\n",
       "      <td>9</td>\n",
       "      <td>0</td>\n",
       "      <td>294912</td>\n",
       "      <td>247296</td>\n",
       "      <td>0</td>\n",
       "      <td>...</td>\n",
       "      <td>2</td>\n",
       "      <td>4.306100</td>\n",
       "      <td>3.421598</td>\n",
       "      <td>5.190603</td>\n",
       "      <td>1074.500000</td>\n",
       "      <td>849</td>\n",
       "      <td>1300</td>\n",
       "      <td>72</td>\n",
       "      <td>18</td>\n",
       "      <td>1</td>\n",
       "    </tr>\n",
       "  </tbody>\n",
       "</table>\n",
       "<p>5 rows × 57 columns</p>\n",
       "</div>"
      ],
      "text/plain": [
       "           Name                               md5  Machine  \\\n",
       "0   memtest.exe  631ea355665f28d4707448e442fbf5b8      332   \n",
       "1       ose.exe  9d10f99a6712e28f8acd5641e3a7ea6b      332   \n",
       "2     setup.exe  4d92f518527353c0db88a70fddcfd390      332   \n",
       "3      DW20.EXE  a41e524f8d45f0074fd07805ff0c9b12      332   \n",
       "4  dwtrig20.exe  c87e561258f2f8650cef999bf643a731      332   \n",
       "\n",
       "   SizeOfOptionalHeader  Characteristics  MajorLinkerVersion  \\\n",
       "0                   224              258                   9   \n",
       "1                   224             3330                   9   \n",
       "2                   224             3330                   9   \n",
       "3                   224              258                   9   \n",
       "4                   224              258                   9   \n",
       "\n",
       "   MinorLinkerVersion  SizeOfCode  SizeOfInitializedData  \\\n",
       "0                   0      361984                 115712   \n",
       "1                   0      130560                  19968   \n",
       "2                   0      517120                 621568   \n",
       "3                   0      585728                 369152   \n",
       "4                   0      294912                 247296   \n",
       "\n",
       "   SizeOfUninitializedData  ...  ResourcesNb  ResourcesMeanEntropy  \\\n",
       "0                        0  ...            4              3.262823   \n",
       "1                        0  ...            2              4.250461   \n",
       "2                        0  ...           11              4.426324   \n",
       "3                        0  ...           10              4.364291   \n",
       "4                        0  ...            2              4.306100   \n",
       "\n",
       "   ResourcesMinEntropy  ResourcesMaxEntropy  ResourcesMeanSize  \\\n",
       "0             2.568844             3.537939        8797.000000   \n",
       "1             3.420744             5.080177         837.000000   \n",
       "2             2.846449             5.271813       31102.272727   \n",
       "3             2.669314             6.400720        1457.000000   \n",
       "4             3.421598             5.190603        1074.500000   \n",
       "\n",
       "   ResourcesMinSize  ResourcesMaxSize  LoadConfigurationSize  \\\n",
       "0               216             18032                      0   \n",
       "1               518              1156                     72   \n",
       "2               104            270376                     72   \n",
       "3                90              4264                     72   \n",
       "4               849              1300                     72   \n",
       "\n",
       "   VersionInformationSize  legitimate  \n",
       "0                      16           1  \n",
       "1                      18           1  \n",
       "2                      18           1  \n",
       "3                      18           1  \n",
       "4                      18           1  \n",
       "\n",
       "[5 rows x 57 columns]"
      ]
     },
     "execution_count": 4,
     "metadata": {},
     "output_type": "execute_result"
    }
   ],
   "source": [
    "data.head()"
   ]
  },
  {
   "cell_type": "code",
   "execution_count": null,
   "metadata": {},
   "outputs": [],
   "source": [
    "legitimate = data[0:41323].drop([\"legitimate\"], axis=1)\n",
    "malware = data[41323:].drop([\"legitimate\"], axis=1)"
   ]
  },
  {
   "cell_type": "code",
   "execution_count": null,
   "metadata": {},
   "outputs": [
    {
     "name": "stdout",
     "output_type": "stream",
     "text": [
      "Shape of legitimate dataset is 41323 samples with 56 features\n",
      "Shape of malware dataset is 96724 samples with 56 features\n"
     ]
    }
   ],
   "source": [
    "print(\"Shape of legitimate dataset is %s samples with %s features\" %(legitimate.shape[0], legitimate.shape[1]))\n",
    "print(\"Shape of malware dataset is %s samples with %s features\" %(malware.shape[0], malware.shape[1]))"
   ]
  },
  {
   "cell_type": "markdown",
   "metadata": {},
   "source": [
    "<h1>CLASSIFIER</h1>\n"
   ]
  },
  {
   "cell_type": "code",
   "execution_count": null,
   "metadata": {},
   "outputs": [],
   "source": [
    "from sklearn.ensemble import ExtraTreesClassifier\n",
    "from sklearn.feature_selection import SelectFromModel\n",
    "from sklearn.model_selection import train_test_split\n",
    "from sklearn.model_selection import cross_validate"
   ]
  },
  {
   "cell_type": "code",
   "execution_count": null,
   "metadata": {},
   "outputs": [],
   "source": [
    "data_input = data.drop(['Name', 'md5', 'legitimate', 'ResourcesMinSize', 'ResourcesMinEntropy', 'ResourcesMeanSize', 'ResourcesMaxSize', 'ResourcesMinSize', 'ResourcesMaxEntropy', 'ResourcesMinEntropy'], axis=1).values\n",
    "labels = data[\"legitimate\"].values\n",
    "extratrees = ExtraTreesClassifier().fit(data_input, labels)\n",
    "select = SelectFromModel(extratrees, prefit=True)\n",
    "data_input_new = select.transform(data_input)"
   ]
  },
  {
   "cell_type": "code",
   "execution_count": null,
   "metadata": {},
   "outputs": [
    {
     "data": {
      "text/plain": [
       "array([[3.32000000e+02, 2.24000000e+02, 2.58000000e+02, ...,\n",
       "        5.76680655e+00, 7.22105073e+00, 1.60000000e+01],\n",
       "       [3.32000000e+02, 2.24000000e+02, 3.33000000e+03, ...,\n",
       "        4.83968794e+00, 6.56690933e+00, 1.80000000e+01],\n",
       "       [3.32000000e+02, 2.24000000e+02, 3.33000000e+03, ...,\n",
       "        6.40955753e+00, 7.60095678e+00, 1.80000000e+01],\n",
       "       ...,\n",
       "       [3.32000000e+02, 2.24000000e+02, 2.58000000e+02, ...,\n",
       "        5.65942634e+00, 7.97742342e+00, 1.40000000e+01],\n",
       "       [3.32000000e+02, 2.24000000e+02, 3.31660000e+04, ...,\n",
       "        3.01268192e+00, 6.43118768e+00, 0.00000000e+00],\n",
       "       [3.32000000e+02, 2.24000000e+02, 2.58000000e+02, ...,\n",
       "        5.24600058e+00, 6.56274547e+00, 0.00000000e+00]])"
      ]
     },
     "execution_count": 13,
     "metadata": {},
     "output_type": "execute_result"
    }
   ],
   "source": [
    "data_input_new"
   ]
  },
  {
   "cell_type": "code",
   "execution_count": null,
   "metadata": {},
   "outputs": [
    {
     "name": "stdout",
     "output_type": "stream",
     "text": [
      "(138047, 49) (138047, 11)\n"
     ]
    }
   ],
   "source": [
    "print(data_input.shape, data_input_new.shape)"
   ]
  },
  {
   "cell_type": "code",
   "execution_count": null,
   "metadata": {},
   "outputs": [],
   "source": [
    "import numpy as np\n",
    "features = data_input_new.shape[1]\n",
    "importances = extratrees.feature_importances_\n",
    "indices = np.argsort(importances)[::-1]"
   ]
  },
  {
   "cell_type": "markdown",
   "metadata": {},
   "source": [
    "<h1>SELECTING THE MOST IMPORTANT FEATURES</h1>"
   ]
  },
  {
   "cell_type": "code",
   "execution_count": null,
   "metadata": {
    "scrolled": true
   },
   "outputs": [
    {
     "name": "stdout",
     "output_type": "stream",
     "text": [
      "1 DllCharacteristics 0.15957226282291456\n",
      "2 Machine 0.10294936670858645\n",
      "3 Characteristics 0.10002110824166825\n",
      "4 ResourcesMaxEntropy 0.07790531034994834\n",
      "5 SectionsMaxEntropy 0.07650436744506255\n",
      "6 MajorSubsystemVersion 0.0681976493822681\n",
      "7 ImageBase 0.058449684791516215\n",
      "8 Subsystem 0.05576108224155063\n",
      "9 SizeOfOptionalHeader 0.051118315723415936\n",
      "10 SizeOfStackReserve 0.0246548373016773\n",
      "11 SectionsMeanEntropy 0.02130917062076368\n"
     ]
    }
   ],
   "source": [
    "for x in range(features):\n",
    "    print(\"%d\"%(x+1), data.columns[2+indices[x]], importances[indices[x]])"
   ]
  },
  {
   "cell_type": "markdown",
   "metadata": {},
   "source": [
    "<h1>RANDOM FOREST CLASSIFIER</h1>"
   ]
  },
  {
   "cell_type": "code",
   "execution_count": null,
   "metadata": {},
   "outputs": [],
   "source": [
    "from sklearn.model_selection import train_test_split\n",
    "from sklearn.ensemble import RandomForestClassifier\n",
    "legitimate_train, legitimate_test, malware_train, malware_test = train_test_split(data_input_new, labels, test_size=0.2)"
   ]
  },
  {
   "cell_type": "code",
   "execution_count": null,
   "metadata": {},
   "outputs": [],
   "source": [
    "classifier = RandomForestClassifier(n_estimators=100)"
   ]
  },
  {
   "cell_type": "code",
   "execution_count": null,
   "metadata": {},
   "outputs": [
    {
     "data": {
      "text/plain": [
       "RandomForestClassifier()"
      ]
     },
     "execution_count": 19,
     "metadata": {},
     "output_type": "execute_result"
    }
   ],
   "source": [
    "classifier.fit(legitimate_train, malware_train)"
   ]
  },
  {
   "cell_type": "code",
   "execution_count": null,
   "metadata": {},
   "outputs": [
    {
     "name": "stdout",
     "output_type": "stream",
     "text": [
      "Algorithm's score :  99.41325606664252\n"
     ]
    }
   ],
   "source": [
    "print(\"Algorithm's score : \", classifier.score(legitimate_test, malware_test)*100)"
   ]
  },
  {
   "cell_type": "code",
   "execution_count": null,
   "metadata": {},
   "outputs": [],
   "source": [
    "from sklearn.metrics import confusion_matrix\n",
    "result = classifier.predict(legitimate_test)\n",
    "matrix = confusion_matrix(malware_test, result)"
   ]
  },
  {
   "cell_type": "code",
   "execution_count": null,
   "metadata": {},
   "outputs": [
    {
     "data": {
      "text/plain": [
       "array([[19279,    95],\n",
       "       [   67,  8169]])"
      ]
     },
     "execution_count": 22,
     "metadata": {},
     "output_type": "execute_result"
    }
   ],
   "source": [
    "matrix"
   ]
  },
  {
   "cell_type": "code",
   "execution_count": null,
   "metadata": {},
   "outputs": [
    {
     "name": "stdout",
     "output_type": "stream",
     "text": [
      "False Positives :  0.4903478889232993\n",
      "False Negatives :  0.8135016998542983\n"
     ]
    }
   ],
   "source": [
    "print(\"False Positives : \", matrix[0][1]/sum(matrix[0])*100)\n",
    "print(\"False Negatives : \", matrix[1][0]/sum(matrix[1])*100)"
   ]
  },
  {
   "cell_type": "code",
   "execution_count": null,
   "metadata": {},
   "outputs": [],
   "source": [
    "import pickle"
   ]
  },
  {
   "cell_type": "code",
   "execution_count": null,
   "metadata": {},
   "outputs": [],
   "source": [
    "with open('model','wb') as file:\n",
    "    pickle.dump(classifier, file)"
   ]
  },
  {
   "cell_type": "code",
   "execution_count": null,
   "metadata": {},
   "outputs": [],
   "source": [
    "import pickle\n",
    "model_load = pickle.load(open('model','rb'))"
   ]
  },
  {
   "cell_type": "code",
   "execution_count": null,
   "metadata": {},
   "outputs": [
    {
     "name": "stdout",
     "output_type": "stream",
     "text": [
      "(1, 11)\n"
     ]
    }
   ],
   "source": [
    "import os\n",
    "import pefile\n",
    "import pandas as pd\n",
    "\n",
    "def extract(path):\n",
    "    pe = pefile.PE(path, fast_load=True)\n",
    "    data = []\n",
    "    entropy = list(map(lambda x:x.get_entropy(), pe.sections))\n",
    "    SectionsMinEntropy = min(entropy)\n",
    "    SectionsMaxEntropy = max(entropy)\n",
    "    data.append(pe.OPTIONAL_HEADER.DllCharacteristics)\n",
    "    data.append(pe.FILE_HEADER.Characteristics)\n",
    "    data.append(pe.FILE_HEADER.Machine)\n",
    "    data.append(pe.OPTIONAL_HEADER.ImageBase)\n",
    "    data.append('6.9')\n",
    "    data.append(SectionsMaxEntropy) \n",
    "    data.append(pe.OPTIONAL_HEADER.Subsystem)\n",
    "    data.append(pe.FILE_HEADER.SizeOfOptionalHeader)\n",
    "    data.append(pe.OPTIONAL_HEADER.MajorSubsystemVersion)\n",
    "    data.append(SectionsMinEntropy)    \n",
    "    data.append(pe.OPTIONAL_HEADER.MajorOperatingSystemVersion)\n",
    "    data2 = []\n",
    "    data2.append(data)\n",
    "    return data2\n",
    "\n",
    "attributes = extract('')\n",
    "df = pd.DataFrame(attributes)\n",
    "print(df.shape)"
   ]
  },
  {
   "cell_type": "code",
   "execution_count": null,
   "metadata": {},
   "outputs": [
    {
     "name": "stdout",
     "output_type": "stream",
     "text": [
      "[1]\n"
     ]
    }
   ],
   "source": [
    "df1 = pd.DataFrame(data_input_new[4])\n",
    "df1 = np.transpose(df1)\n",
    "#print(df1.shape)\n",
    "prediction = model_load.predict(df1)\n",
    "print(prediction)"
   ]
  },
  {
   "cell_type": "code",
   "execution_count": null,
   "metadata": {},
   "outputs": [
    {
     "name": "stdout",
     "output_type": "stream",
     "text": [
      "LEGITIMATE\n"
     ]
    }
   ],
   "source": [
    "x=np.argmax(prediction.round(), axis=0)\n",
    "if(x==0):\n",
    "    print(\"LEGITIMATE\")\n",
    "else:\n",
    "    print(\"MALWARE\")"
   ]
  },
  {
   "cell_type": "markdown",
   "metadata": {},
   "source": [
    "<h1>GRADIENT BOOST CLASSIFIER</h1>"
   ]
  },
  {
   "cell_type": "code",
   "execution_count": null,
   "metadata": {},
   "outputs": [
    {
     "data": {
      "text/plain": [
       "GradientBoostingClassifier(n_estimators=50)"
      ]
     },
     "execution_count": 31,
     "metadata": {},
     "output_type": "execute_result"
    }
   ],
   "source": [
    "from sklearn.ensemble import GradientBoostingClassifier\n",
    "grad_boost = GradientBoostingClassifier(n_estimators=50)\n",
    "grad_boost.fit(legitimate_train, malware_train)"
   ]
  },
  {
   "cell_type": "code",
   "execution_count": null,
   "metadata": {},
   "outputs": [
    {
     "name": "stdout",
     "output_type": "stream",
     "text": [
      "Score of Gradient Boost Classifier :  98.89532777978994\n"
     ]
    }
   ],
   "source": [
    "print(\"Score of Gradient Boost Classifier : \", grad_boost.score(legitimate_test, malware_test)*100)"
   ]
  },
  {
   "cell_type": "code",
   "execution_count": null,
   "metadata": {},
   "outputs": [],
   "source": [
    "from sklearn.metrics import confusion_matrix\n",
    "result = grad_boost.predict(legitimate_test)\n",
    "matrix = confusion_matrix(malware_test, result)"
   ]
  },
  {
   "cell_type": "code",
   "execution_count": null,
   "metadata": {},
   "outputs": [
    {
     "name": "stdout",
     "output_type": "stream",
     "text": [
      "False Positives :  0.7948797357282957\n",
      "False Negatives :  1.8334142787761047\n"
     ]
    }
   ],
   "source": [
    "print(\"False Positives : \", matrix[0][1]/sum(matrix[0])*100)\n",
    "print(\"False Negatives : \", matrix[1][0]/sum(matrix[1])*100)"
   ]
  },
  {
   "cell_type": "code",
   "execution_count": null,
   "metadata": {},
   "outputs": [],
   "source": [
    "import pickle\n",
    "with open('Grad_Boost_model','wb') as file:\n",
    "    pickle.dump(grad_boost, file)"
   ]
  },
  {
   "cell_type": "code",
   "execution_count": null,
   "metadata": {},
   "outputs": [
    {
     "name": "stdout",
     "output_type": "stream",
     "text": [
      "(1, 11)\n"
     ]
    }
   ],
   "source": [
    "import os\n",
    "import pefile\n",
    "import pandas as pd\n",
    "\n",
    "def extract(path):\n",
    "    pe = pefile.PE(path, fast_load=True)\n",
    "    data = []\n",
    "    entropy = list(map(lambda x:x.get_entropy(), pe.sections))\n",
    "    SectionsMinEntropy = min(entropy)\n",
    "    SectionsMaxEntropy = max(entropy)\n",
    "    data.append(pe.OPTIONAL_HEADER.DllCharacteristics)\n",
    "    data.append(pe.FILE_HEADER.Characteristics)\n",
    "    data.append(pe.FILE_HEADER.Machine)\n",
    "    data.append(pe.OPTIONAL_HEADER.ImageBase)\n",
    "    data.append('6.9')\n",
    "    data.append(SectionsMaxEntropy) \n",
    "    data.append(pe.OPTIONAL_HEADER.Subsystem)\n",
    "    data.append(pe.FILE_HEADER.SizeOfOptionalHeader)\n",
    "    data.append(pe.OPTIONAL_HEADER.MajorSubsystemVersion)\n",
    "    data.append(SectionsMinEntropy)    \n",
    "    data.append(pe.OPTIONAL_HEADER.MajorOperatingSystemVersion)\n",
    "    data2 = []\n",
    "    data2.append(data)\n",
    "    return data2\n",
    "\n",
    "attributes = extract('')\n",
    "df = pd.DataFrame(attributes)\n",
    "print(df.shape)"
   ]
  },
  {
   "cell_type": "code",
   "execution_count": null,
   "metadata": {},
   "outputs": [
    {
     "name": "stdout",
     "output_type": "stream",
     "text": [
      "[1]\n",
      "LEGITIMATE\n"
     ]
    }
   ],
   "source": [
    "df1 = pd.DataFrame(data_input_new[4])\n",
    "df1 = np.transpose(df1)\n",
    "#print(df1.shape)\n",
    "prediction = grad_boost.predict(df1)\n",
    "print(prediction)\n",
    "x=np.argmax(prediction.round(), axis=0)\n",
    "if(x==0):\n",
    "    print(\"LEGITIMATE\")\n",
    "else:\n",
    "    print(\"MALWARE\")"
   ]
  },
  {
   "cell_type": "markdown",
   "metadata": {},
   "source": [
    "<h1>TESTING OTHER CLASSIFIERS</h1>"
   ]
  },
  {
   "cell_type": "code",
   "execution_count": null,
   "metadata": {},
   "outputs": [],
   "source": [
    "from sklearn import tree, linear_model\n",
    "import sklearn.ensemble as ek\n",
    "from sklearn.naive_bayes import GaussianNB\n",
    "from sklearn.linear_model import LinearRegression\n",
    "model = { \"DecisionTree\":tree.DecisionTreeClassifier(max_depth=10),\n",
    "         \"RandomForest\":ek.RandomForestClassifier(n_estimators=50),\n",
    "         \"Adaboost\":ek.AdaBoostClassifier(n_estimators=50),\n",
    "         \"GradientBoosting\":ek.GradientBoostingClassifier(n_estimators=50),\n",
    "         \"GNB\":GaussianNB(),\n",
    "         \"LinearRegression\":LinearRegression()   \n",
    "        }"
   ]
  },
  {
   "cell_type": "code",
   "execution_count": null,
   "metadata": {},
   "outputs": [
    {
     "name": "stdout",
     "output_type": "stream",
     "text": [
      "DecisionTree 0.9901847156827237\n",
      "RandomForest 0.9939876856211518\n",
      "Adaboost 0.9851865266207895\n",
      "GradientBoosting 0.9889532777978993\n",
      "GNB 0.7017385005432815\n",
      "LinearRegression 0.5929045749430526\n"
     ]
    }
   ],
   "source": [
    "for x in model:\n",
    "    classifier = model[x]\n",
    "    classifier.fit(legitimate_train, malware_train)\n",
    "    score = classifier.score(legitimate_test, malware_test)\n",
    "    print(x+ ' '+ str(score))"
   ]
  },
  {
   "cell_type": "code",
   "execution_count": null,
   "metadata": {},
   "outputs": [],
   "source": []
  }
 ],
 "metadata": {
  "kernelspec": {
   "display_name": "Python 3 (ipykernel)",
   "language": "python",
   "name": "python3"
  },
  "language_info": {
   "codemirror_mode": {
    "name": "ipython",
    "version": 3
   },
   "file_extension": ".py",
   "mimetype": "text/x-python",
   "name": "python",
   "nbconvert_exporter": "python",
   "pygments_lexer": "ipython3",
   "version": "3.11.5"
  }
 },
 "nbformat": 4,
 "nbformat_minor": 4
}
